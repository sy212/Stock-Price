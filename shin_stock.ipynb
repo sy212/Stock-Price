{
 "cells": [
  {
   "cell_type": "markdown",
   "metadata": {},
   "source": [
    "# 신세계 그룹분석\n",
    "* 신세계 그룹 개요\n",
    "    - 설립일: 1930년 10월 24일\n",
    "    - 주소: 서울특별시 중구 소공로 63 (충무로1가)\n",
    "    - 창업주: 이병철\n",
    "    - 회장:이명희\n",
    "    - 시가총액:7조 8,722억원:\n",
    "    - 매출액:6조 3,936억 5,371만원 (2019)\n",
    "    - 영업이익:4,681억 5,464만원 (2019) #\n",
    "    - 순이익:5,981억 6,917만원 (2019) #"
   ]
  },
  {
   "cell_type": "markdown",
   "metadata": {},
   "source": [
    "### 기업분석 2\n",
    "    * 상장사\n",
    "        - (주)신세계 \n",
    "        - (주)이마트 \n",
    "        - (주)광주신세계 \n",
    "        - 신세계건설(주) \n",
    "        - (주)신세계아이앤씨 035510\n",
    "        - (주)신세계푸드 031440\n",
    "        - (주)신세계인터내셔날 "
   ]
  },
  {
   "cell_type": "markdown",
   "metadata": {},
   "source": [
    "### 주) 신세계 주가 데이터 수집"
   ]
  },
  {
   "cell_type": "code",
   "execution_count": 54,
   "metadata": {},
   "outputs": [],
   "source": [
    "import requests\n",
    "from bs4 import BeautifulSoup\n",
    "import numpy as np\n",
    "import pandas as pd\n",
    "import sqlite3"
   ]
  },
  {
   "cell_type": "code",
   "execution_count": 55,
   "metadata": {},
   "outputs": [],
   "source": [
    "url=\"https://finance.naver.com/item/sise_day.nhn?code={0}&page={1}\"\n",
    "scode=\"031440\"\n",
    "sname=\"신세계푸드\"\n",
    "#031430 신세계인터네셔널 004170 신세계 035510신세계 I&C 031440"
   ]
  },
  {
   "cell_type": "code",
   "execution_count": 56,
   "metadata": {},
   "outputs": [],
   "source": [
    "dbname=\"naverstock.db\"\n",
    "def insdb(d):\n",
    "    with sqlite3.connect(dbname) as conn:\n",
    "        cur=conn.cursor()\n",
    "        #sqlins=\"insert into ...\"\n",
    "        sqlsel=\"select * from stockdata where skey='{0}'\".format(d[0])\n",
    "        sdata=cur.execute(sqlsel).fetchall()\n",
    "        if(sdata):\n",
    "            # 이미 존재함\n",
    "            print(\"이미 존재함:\"+d[0])\n",
    "        else:\n",
    "            #기존에 크로링 안함\n",
    "            inssql=\"insert into stockdata (SKEY,SDAY,SCODE,SNAME,SOPEN,SHIGH,SLOW,SCLOSE,SVOL) values (?,?,?,?,?,?,?,?,?)\"\n",
    "            cur.execute(inssql,d)\n",
    "            print('.',end='')\n",
    "    \n"
   ]
  },
  {
   "cell_type": "code",
   "execution_count": 57,
   "metadata": {},
   "outputs": [],
   "source": [
    "#### Open-high-low-close chart"
   ]
  },
  {
   "cell_type": "markdown",
   "metadata": {},
   "source": [
    "### 데이터 크롤링\n",
    "* url이 iframe 형태로 되어있어서 내부 url 사용\n",
    "* requests 사용하여 원시 데이터 수집\n",
    "* bs4 사용하여 객체화"
   ]
  },
  {
   "cell_type": "code",
   "execution_count": 58,
   "metadata": {},
   "outputs": [],
   "source": [
    "#종가\t전일비\t시가\t고가\t저가\t거래량 \n",
    "def maketgt(tgts):\n",
    "    result=[]\n",
    "    for tgt in tgts:\n",
    "        shead=tgt.select(\".gray03\")\n",
    "        if(shead):\n",
    "            tds=tgt.select(\"td\")# tr 태그 하위에 td 태그 만 추출\n",
    "            sday=tds[0].text.replace(\".\",\"\")# 날짜를 날짜코드화\n",
    "            sclose=tds[1].text.replace(\",\",\"\")# 문자를 숫자화\n",
    "            sopen=tds[3].text.replace(\",\",\"\")# 시가\n",
    "            shigh=tds[4].text.replace(\",\",\"\")#고가\n",
    "            slow=tds[5].text.replace(\",\",\"\")#저가\n",
    "            svol=tds[6].text.replace(\",\",\"\")# 거래량\n",
    "            skey=sday+scode\n",
    "            d=[skey,sday,scode,sname,sopen,shigh,slow,sclose,svol]\n",
    "            result.append(d)\n",
    "            insdb(d)\n",
    "    return result"
   ]
  },
  {
   "cell_type": "code",
   "execution_count": 59,
   "metadata": {},
   "outputs": [],
   "source": [
    "\n",
    "def mycrawl(pageno):\n",
    "    src=requests.get(url.format(scode,pageno))\n",
    "    c=src.content\n",
    "    html=BeautifulSoup(c,\"html.parser\")\n",
    "    tgts=html.select(\"table.type2 tr\")\n",
    "    print(len(tgts))\n",
    "    res=maketgt(tgts)\n",
    "    len(res)"
   ]
  },
  {
   "cell_type": "code",
   "execution_count": 62,
   "metadata": {},
   "outputs": [
    {
     "name": "stdout",
     "output_type": "stream",
     "text": [
      "16\n",
      "..........16\n",
      "..........16\n",
      "..........16\n",
      "..........16\n",
      "..........16\n",
      "..........16\n",
      "..........16\n",
      "..........16\n",
      "..........16\n",
      "..........16\n",
      "..........16\n",
      "..........16\n",
      "..........16\n",
      "..........16\n",
      "..........16\n",
      "..........16\n",
      "..........16\n",
      "..........16\n",
      "..........16\n",
      "..........16\n",
      "..........16\n",
      "..........16\n",
      "..........16\n",
      "..........16\n",
      "..........16\n",
      "..........16\n",
      "..........16\n",
      "..........16\n",
      "..........16\n",
      "..........16\n",
      "..........16\n",
      "..........16\n",
      "..........16\n",
      "..........16\n",
      "..........16\n",
      "..........16\n",
      "..........16\n",
      "..........16\n",
      "..........16\n",
      "..........16\n",
      "..........16\n",
      "..........16\n",
      "..........16\n",
      "..........16\n",
      "..........16\n",
      "..........16\n",
      "..........16\n",
      "..........16\n",
      "..........16\n",
      ".........."
     ]
    }
   ],
   "source": [
    "for i in range(1,100):\n",
    "    mycrawl(i)"
   ]
  },
  {
   "cell_type": "code",
   "execution_count": null,
   "metadata": {},
   "outputs": [],
   "source": []
  }
 ],
 "metadata": {
  "kernelspec": {
   "display_name": "Python 3",
   "language": "python",
   "name": "python3"
  },
  "language_info": {
   "codemirror_mode": {
    "name": "ipython",
    "version": 3
   },
   "file_extension": ".py",
   "mimetype": "text/x-python",
   "name": "python",
   "nbconvert_exporter": "python",
   "pygments_lexer": "ipython3",
   "version": "3.8.3"
  }
 },
 "nbformat": 4,
 "nbformat_minor": 4
}
